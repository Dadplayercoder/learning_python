{
 "cells": [
  {
   "cell_type": "code",
   "execution_count": 144,
   "metadata": {},
   "outputs": [
    {
     "name": "stdout",
     "output_type": "stream",
     "text": [
      "<class 'str'>\n",
      "Hello Ege Kockaya\n"
     ]
    }
   ],
   "source": [
    "## Brocode 12 hours tutorial- session 1 - 09/06/2024\n",
    "\n",
    "first_name = \"Ege\"\n",
    "last_name = \"Kockaya\"\n",
    "Full_name = first_name + \" \" + last_name\n",
    "print(type(Full_name))\n",
    "print( \"Hello \" + Full_name)\n"
   ]
  },
  {
   "cell_type": "code",
   "execution_count": 145,
   "metadata": {},
   "outputs": [
    {
     "name": "stdout",
     "output_type": "stream",
     "text": [
      "Your age is:28\n",
      "<class 'int'>\n"
     ]
    }
   ],
   "source": [
    "# integer data type : only stores whole number\n",
    "\n",
    "age = 27\n",
    "age +=  + 1 \n",
    "print (\"Your age is:\" + str(age))\n",
    "print(type(age))"
   ]
  },
  {
   "cell_type": "code",
   "execution_count": 146,
   "metadata": {},
   "outputs": [
    {
     "name": "stdout",
     "output_type": "stream",
     "text": [
      "Your height is 250.5cm\n",
      "<class 'float'>\n"
     ]
    }
   ],
   "source": [
    "#float data type: numeric data type that can store also decimal value\n",
    "height = 250.5\n",
    "print(\"Your height is \" +str(height) + \"cm\")\n",
    "print(type(height))"
   ]
  },
  {
   "cell_type": "code",
   "execution_count": 147,
   "metadata": {},
   "outputs": [
    {
     "name": "stdout",
     "output_type": "stream",
     "text": [
      "Are you a human False\n",
      "<class 'bool'>\n"
     ]
    }
   ],
   "source": [
    "#boolean: variable that stores only true or false\n",
    "\n",
    "human = False\n",
    "print (\"Are you a human \" +str(human))\n",
    "print(type(human))"
   ]
  },
  {
   "cell_type": "code",
   "execution_count": 148,
   "metadata": {},
   "outputs": [
    {
     "name": "stdout",
     "output_type": "stream",
     "text": [
      "Ege\n",
      "27\n",
      "True\n",
      "Akif 21 True\n"
     ]
    }
   ],
   "source": [
    "#multiple assignment = allows us to assign multiple variables at the same time using a single line code \n",
    "\n",
    "name = \"Ege\"\n",
    "age = \"27\"\n",
    "attractive = True\n",
    "print (name)\n",
    "print (age)\n",
    "print(attractive)\n",
    "\n",
    "## multiple assingment\n",
    "\n",
    "name2, age2, attractiveness = \"Akif\", 21, True\n",
    "\n",
    "print(name2, age2, attractiveness)"
   ]
  },
  {
   "cell_type": "code",
   "execution_count": 149,
   "metadata": {},
   "outputs": [
    {
     "name": "stdout",
     "output_type": "stream",
     "text": [
      "30\n"
     ]
    }
   ],
   "source": [
    "Spongebob = Patrick = Sandy = Squidward = 30\n",
    "\n",
    "print(Sandy)"
   ]
  },
  {
   "cell_type": "code",
   "execution_count": 150,
   "metadata": {},
   "outputs": [
    {
     "name": "stdout",
     "output_type": "stream",
     "text": [
      "3\n",
      "1\n",
      "Ege\n",
      "EGE\n",
      "ege\n",
      "True\n",
      "1\n",
      "Egi\n",
      "EgeEgeEge\n"
     ]
    }
   ],
   "source": [
    "# string methods\n",
    "\n",
    "print(len(name))\n",
    "print(name.find(\"g\"))\n",
    "print(name.capitalize())\n",
    "print(name.upper())\n",
    "print(name.lower())\n",
    "print(name.isalpha())\n",
    "print(name.count(\"e\"))\n",
    "print(name.replace(\"e\",\"i\"))\n",
    "print(name*3)"
   ]
  },
  {
   "cell_type": "code",
   "execution_count": 151,
   "metadata": {},
   "outputs": [
    {
     "name": "stdout",
     "output_type": "stream",
     "text": [
      "2\n",
      "9\n",
      "X is 1.0\n"
     ]
    }
   ],
   "source": [
    "# type casting = convert the data type of a value to another data type\n",
    "\n",
    "x = 1 #integer\n",
    "y = 2.0 #float\n",
    "z = \"3\" #str\n",
    "\n",
    "print(int(y)) # not permenant\n",
    "y = int(y) #permenant\n",
    "\n",
    "z= int(z)\n",
    "print(z*3)\n",
    "\n",
    "x = float(x)\n",
    "\n",
    "print(\"X is \" +str(x))\n"
   ]
  },
  {
   "cell_type": "code",
   "execution_count": 152,
   "metadata": {},
   "outputs": [
    {
     "name": "stdout",
     "output_type": "stream",
     "text": [
      "28\n",
      "Hello Ege\n",
      "<class 'int'>\n",
      "hello Ege\n",
      "You are 28 years old\n",
      "You are 1.71cm tall\n"
     ]
    }
   ],
   "source": [
    "# user input\n",
    "\n",
    "name4 = input (\"What is your name: \")\n",
    "age3 = input (\"Hold old are you: \")\n",
    "height2 = float(input(\"How tall are you?: \"))\n",
    "\n",
    "\n",
    "age3 = int(age3) + 1\n",
    "\n",
    "print (age3)\n",
    "\n",
    "\n",
    "print (\"Hello \"+name)\n",
    "print(type(age3))\n",
    "\n",
    "print (\"hello \" + name4)\n",
    "print(\"You are \" + str(age3)+ \" years old\")\n",
    "print (\"You are \" +str(height2)+ \"cm tall\")"
   ]
  },
  {
   "cell_type": "code",
   "execution_count": 153,
   "metadata": {},
   "outputs": [
    {
     "name": "stdout",
     "output_type": "stream",
     "text": [
      "3\n",
      "4\n",
      "3\n",
      "3.14\n",
      "9.8596\n",
      "1.772004514666935\n"
     ]
    }
   ],
   "source": [
    "# math functions\n",
    "import math as m\n",
    "\n",
    "pi = 3.14\n",
    "\n",
    "print(round(pi))\n",
    "print(m.ceil(pi))\n",
    "print(m.floor(pi))\n",
    "print(abs(pi))\n",
    "print(pow(pi,2))\n",
    "print(m.sqrt(pi))\n"
   ]
  },
  {
   "cell_type": "code",
   "execution_count": 154,
   "metadata": {},
   "outputs": [
    {
     "name": "stdout",
     "output_type": "stream",
     "text": [
      "3\n",
      "1\n"
     ]
    }
   ],
   "source": [
    "x = 1\n",
    "y = 2 \n",
    "z = 3\n",
    "\n",
    "print(max(x,y,z))\n",
    "print(min(x,y,z))\n"
   ]
  },
  {
   "cell_type": "code",
   "execution_count": 155,
   "metadata": {},
   "outputs": [
    {
     "name": "stdout",
     "output_type": "stream",
     "text": [
      "Ege\n",
      "Kockaya\n",
      "EeKcaa\n",
      "ayakcoK egE\n"
     ]
    }
   ],
   "source": [
    "#string slicing = create a substring by extracting elements from another string\n",
    "\n",
    "name = \"Ege Kockaya\"\n",
    "\n",
    "first_name = name[0:3]\n",
    "print(first_name)\n",
    "last_name = name[4:11]\n",
    "print(last_name)\n",
    "nick_name = name[::2]\n",
    "print(nick_name)\n",
    "reversed_name = name[::-1]\n",
    "print(reversed_name)"
   ]
  },
  {
   "cell_type": "code",
   "execution_count": 156,
   "metadata": {},
   "outputs": [
    {
     "name": "stdout",
     "output_type": "stream",
     "text": [
      "google\n",
      "wikipedia\n"
     ]
    }
   ],
   "source": [
    "#slicing \n",
    "import builtins\n",
    "website = \"http://google.com\"\n",
    "website2= \"http://wikipedia.com\"\n",
    "slice_ob = builtins.slice(7, -4)\n",
    "print(website[slice_ob])\n",
    "print(website2[slice_ob])\n"
   ]
  },
  {
   "cell_type": "code",
   "execution_count": 157,
   "metadata": {},
   "outputs": [
    {
     "name": "stdout",
     "output_type": "stream",
     "text": [
      "You are an adult!\n"
     ]
    }
   ],
   "source": [
    "# if elif else\n",
    "\n",
    "age = int(input(\"How old are you?:\" ))\n",
    "\n",
    "if age == 100:\n",
    "    print(\"You are a century old!\")\n",
    "elif age >= 18:\n",
    "    print (\"You are an adult!\")\n",
    "elif age < 0:\n",
    "    print(\"You haven't been born yet?!?\")\n",
    "else: \n",
    "    print(\"You are a child!\")"
   ]
  },
  {
   "cell_type": "code",
   "execution_count": 158,
   "metadata": {},
   "outputs": [
    {
     "name": "stdout",
     "output_type": "stream",
     "text": [
      "The temperature is good today\n",
      "go outside\n"
     ]
    }
   ],
   "source": [
    "# logical operators (and, or, not)\n",
    "\n",
    "temp = int(input(\"What is the temperature outside:\"))\n",
    "\n",
    "if not(temp >= 0 and temp <= 30):\n",
    "     print(\"The temperature is bad today\")\n",
    "     print(\"Stay inside\")\n",
    "elif not(temp < 0 or temp > 30):\n",
    "    print(\"The temperature is good today\")\n",
    "    print(\"go outside\")\n"
   ]
  },
  {
   "cell_type": "code",
   "execution_count": 159,
   "metadata": {},
   "outputs": [
    {
     "name": "stdout",
     "output_type": "stream",
     "text": [
      "Hello Ege\n"
     ]
    }
   ],
   "source": [
    "# while loops = a statement that will execute it's block of code, as long as it's condition remains true.\n",
    "\n",
    "name5 = None\n",
    "\n",
    "while not name5:\n",
    "    name5 = input(\"Enter youare name: \")\n",
    "print(\"Hello \" + name5)\n",
    "\n"
   ]
  },
  {
   "cell_type": "code",
   "execution_count": 160,
   "metadata": {},
   "outputs": [
    {
     "name": "stdout",
     "output_type": "stream",
     "text": [
      "1\n",
      "2\n",
      "3\n",
      "4\n",
      "5\n",
      "6\n",
      "7\n",
      "8\n",
      "9\n",
      "10\n"
     ]
    }
   ],
   "source": [
    "# for loops: a block of code that will execute it's statement for a limited amount of time\n",
    "\n",
    "for i in range(10):\n",
    "    print(i+1)\n"
   ]
  },
  {
   "cell_type": "code",
   "execution_count": 161,
   "metadata": {},
   "outputs": [
    {
     "name": "stdout",
     "output_type": "stream",
     "text": [
      "50\n",
      "52\n",
      "54\n",
      "56\n",
      "58\n",
      "60\n"
     ]
    }
   ],
   "source": [
    "for i in range(50,60+1,2):\n",
    "    print(i)"
   ]
  },
  {
   "cell_type": "code",
   "execution_count": 162,
   "metadata": {},
   "outputs": [
    {
     "name": "stdout",
     "output_type": "stream",
     "text": [
      "E\n",
      "g\n",
      "e\n",
      " \n",
      "K\n",
      "o\n",
      "c\n",
      "k\n",
      "a\n",
      "y\n",
      "a\n"
     ]
    }
   ],
   "source": [
    "for i in \"Ege Kockaya\":\n",
    "    print(i)"
   ]
  },
  {
   "cell_type": "code",
   "execution_count": 163,
   "metadata": {},
   "outputs": [
    {
     "name": "stdout",
     "output_type": "stream",
     "text": [
      "10\n",
      "9\n",
      "8\n",
      "7\n",
      "6\n",
      "5\n",
      "4\n",
      "3\n",
      "2\n",
      "1\n",
      "Happy New Year!!\n"
     ]
    }
   ],
   "source": [
    "#making timer\n",
    "import time\n",
    "\n",
    "for seconds in range(10,0,-1):\n",
    "    print(seconds)\n",
    "    time.sleep(1)\n",
    "print(\"Happy New Year!!\")\n"
   ]
  },
  {
   "cell_type": "code",
   "execution_count": 1,
   "metadata": {},
   "outputs": [
    {
     "name": "stdout",
     "output_type": "stream",
     "text": [
      "EEEEEEEEEE\n",
      "EEEEEEEEEE\n",
      "EEEEEEEEEE\n",
      "EEEEEEEEEE\n",
      "EEEEEEEEEE\n",
      "EEEEEEEEEE\n",
      "EEEEEEEEEE\n",
      "EEEEEEEEEE\n",
      "EEEEEEEEEE\n",
      "EEEEEEEEEE\n"
     ]
    }
   ],
   "source": [
    "# nested loops = the \"inner loop\" will finish all of it's iterations before finishing one iteration of the \"outer loop\"\n",
    "\n",
    "rows= int(input(\"How many rows:\"))\n",
    "columns = int(input(\"How many columns:\"))\n",
    "symbol = input(\"Enter a symbol to use:\")\n",
    "\n",
    "for i in range(rows):\n",
    "    for j in range (columns):\n",
    "        print(symbol, end=\"\")\n",
    "    print()\n"
   ]
  },
  {
   "cell_type": "code",
   "execution_count": null,
   "metadata": {},
   "outputs": [
    {
     "name": "stdout",
     "output_type": "stream",
     "text": [
      "123342421341\n",
      "2\n",
      "3\n",
      "4\n",
      "5\n",
      "6\n",
      "7\n",
      "8\n",
      "9\n",
      "10\n",
      "11\n",
      "12\n",
      "14\n",
      "15\n",
      "16\n",
      "17\n",
      "18\n",
      "19\n",
      "20\n"
     ]
    }
   ],
   "source": [
    "# loop control statements in python, break, continue, pass\n",
    "\n",
    "phone_number = \"123_342_42134\"\n",
    "\n",
    "for i in phone_number:\n",
    "    if i == \"_\":\n",
    "        continue\n",
    "    print(i,end=\"\")\n",
    "\n",
    "for i in range(1,21):\n",
    "    if i == 13:\n",
    "        pass\n",
    "    else:\n",
    "        print(i)\n"
   ]
  },
  {
   "cell_type": "code",
   "execution_count": 2,
   "metadata": {},
   "outputs": [
    {
     "name": "stdout",
     "output_type": "stream",
     "text": [
      "['pizza', 'hamburger', 'hotdog', 'spaghetti']\n",
      "hotdog\n",
      "['sushi', 'hamburger', 'hotdog', 'spaghetti']\n",
      "sushi\n",
      "hamburger\n",
      "hotdog\n",
      "spaghetti\n"
     ]
    }
   ],
   "source": [
    "#lists = used to store multiple item in a single variable\n",
    "\n",
    "food = [\"pizza\",\"hamburger\",\"hotdog\",\"spaghetti\"]\n",
    "\n",
    "print(food)\n",
    "print(food[2])\n",
    "\n",
    "food[0] = \"sushi\"\n",
    "\n",
    "print(food)\n",
    "\n",
    "for x in food:\n",
    "    print(x)\n"
   ]
  },
  {
   "cell_type": "code",
   "execution_count": 3,
   "metadata": {},
   "outputs": [
    {
     "name": "stdout",
     "output_type": "stream",
     "text": [
      "['sushi', 'hamburger', 'hotdog', 'spaghetti', 'ice cream']\n",
      "['sushi', 'hamburger', 'hotdog', 'spaghetti']\n"
     ]
    }
   ],
   "source": [
    "food.append(\"ice cream\")\n",
    "print(food)\n",
    "\n",
    "\n",
    "food.pop()  #removes the last element \n",
    "print(food)"
   ]
  },
  {
   "cell_type": "code",
   "execution_count": 4,
   "metadata": {},
   "outputs": [
    {
     "name": "stdout",
     "output_type": "stream",
     "text": [
      "['cake', 'sushi', 'hamburger', 'hotdog', 'spaghetti']\n"
     ]
    }
   ],
   "source": [
    "food.insert(0,\"cake\")\n",
    "print(food)"
   ]
  },
  {
   "cell_type": "code",
   "execution_count": 5,
   "metadata": {},
   "outputs": [
    {
     "name": "stdout",
     "output_type": "stream",
     "text": [
      "['cake', 'hamburger', 'hotdog', 'spaghetti', 'sushi']\n"
     ]
    }
   ],
   "source": [
    "food.sort()\n",
    "print(food)"
   ]
  },
  {
   "cell_type": "code",
   "execution_count": 9,
   "metadata": {},
   "outputs": [
    {
     "name": "stdout",
     "output_type": "stream",
     "text": [
      "[['coffee', 'soda', 'tea'], ['pizza', 'hamburger', 'hotdog'], ['cake', 'ice']]\n",
      "['pizza', 'hamburger', 'hotdog']\n",
      "cake\n"
     ]
    }
   ],
   "source": [
    "#2d lists a list of lists \n",
    "\n",
    "drinks = [\"coffee\", \"soda\", \"tea\"]\n",
    "dinner= [\"pizza\", \"hamburger\", \"hotdog\"]\n",
    "dessert = [\"cake\", \"ice\"]\n",
    "\n",
    "foodl = [drinks, dinner, dessert]\n",
    "\n",
    "print(foodl)\n",
    "\n",
    "print(foodl[1])\n",
    "\n",
    "print(foodl[2][0])"
   ]
  },
  {
   "cell_type": "code",
   "execution_count": 12,
   "metadata": {},
   "outputs": [
    {
     "name": "stdout",
     "output_type": "stream",
     "text": [
      "1\n",
      "2\n"
     ]
    }
   ],
   "source": [
    "#tuple = a collection which ordered and unchangeable, used to group together related data\n",
    "\n",
    "student = (\"Ege\", \"27\", \"Male\")\n",
    "\n",
    "print(student.count(\"Ege\"))\n",
    "print(student.index(\"Male\"))"
   ]
  },
  {
   "cell_type": "code",
   "execution_count": 14,
   "metadata": {},
   "outputs": [
    {
     "name": "stdout",
     "output_type": "stream",
     "text": [
      "Ege\n",
      "27\n",
      "Male\n",
      "Ege is here!\n"
     ]
    }
   ],
   "source": [
    "for x in student:\n",
    "    print(x)\n",
    "\n",
    "if \"Ege\" in student:\n",
    "    print(\"Ege is here!\")"
   ]
  },
  {
   "cell_type": "code",
   "execution_count": 22,
   "metadata": {},
   "outputs": [
    {
     "name": "stdout",
     "output_type": "stream",
     "text": [
      "knife\n",
      "spoon\n",
      "fork\n"
     ]
    }
   ],
   "source": [
    "# set: a collected which is unordered, unindexed. No duplicate values. A set is faster than a list if you want to quicly see what is in the dataset.\n",
    "\n",
    "utensils = {\"fork\", \"spoon\", \"knife\"}\n",
    "\n",
    "for x in utensils:\n",
    "    print(x)"
   ]
  },
  {
   "cell_type": "code",
   "execution_count": 24,
   "metadata": {},
   "outputs": [],
   "source": [
    "utensils.add(\"napkin\")\n",
    "\n",
    "utensils.remove(\"fork\")"
   ]
  },
  {
   "cell_type": "code",
   "execution_count": 25,
   "metadata": {},
   "outputs": [],
   "source": [
    "dishes = {\"bowl\", \"plate\", \"cup\"}\n",
    "\n",
    "utensils.update(dishes)  #adds all the elements in the dishes to utensils set"
   ]
  },
  {
   "cell_type": "code",
   "execution_count": 27,
   "metadata": {},
   "outputs": [
    {
     "name": "stdout",
     "output_type": "stream",
     "text": [
      "knife\n",
      "bowl\n",
      "spoon\n",
      "napkin\n",
      "plate\n",
      "cup\n"
     ]
    }
   ],
   "source": [
    "dinner_table = utensils.union(dishes)\n",
    "\n",
    "for x in dinner_table:\n",
    "    print(x)\n",
    "    "
   ]
  },
  {
   "cell_type": "code",
   "execution_count": 28,
   "metadata": {},
   "outputs": [
    {
     "name": "stdout",
     "output_type": "stream",
     "text": [
      "{'knife', 'napkin', 'spoon'}\n"
     ]
    }
   ],
   "source": [
    "print(utensils.difference(dishes))"
   ]
  },
  {
   "cell_type": "code",
   "execution_count": 33,
   "metadata": {},
   "outputs": [
    {
     "name": "stdout",
     "output_type": "stream",
     "text": [
      "Moscow\n",
      "None\n",
      "dict_keys(['USA', 'India', 'China', 'Russia'])\n",
      "dict_values(['Washington DC', 'Beijing', 'Beijing', 'Moscow'])\n"
     ]
    }
   ],
   "source": [
    "# dictionary: A changeable, unordered collection of unique key:value pairs, fast because they use hashing\n",
    "\n",
    "capitals = {'USA':'Washington DC',\n",
    "            'India':'Beijing',\n",
    "            'China':'Beijing',\n",
    "            'Russia':'Moscow'}\n",
    "\n",
    "print(capitals['Russia'])\n",
    "\n",
    "print(capitals.get('Germany'))  #safer way to check is there is the key so you don't get an error\n",
    "\n",
    "print(capitals.keys())\n",
    "print(capitals.values())"
   ]
  },
  {
   "cell_type": "code",
   "execution_count": 34,
   "metadata": {},
   "outputs": [],
   "source": [
    "capitals.update({'Germany':'Berlin'})"
   ]
  },
  {
   "cell_type": "code",
   "execution_count": 35,
   "metadata": {},
   "outputs": [],
   "source": [
    "capitals.update({'USA':'Las Vegas'})"
   ]
  },
  {
   "cell_type": "code",
   "execution_count": 36,
   "metadata": {},
   "outputs": [
    {
     "name": "stdout",
     "output_type": "stream",
     "text": [
      "{'USA': 'Las Vegas', 'India': 'Beijing', 'China': 'Beijing', 'Russia': 'Moscow', 'Germany': 'Berlin'}\n"
     ]
    }
   ],
   "source": [
    "print(capitals)"
   ]
  },
  {
   "cell_type": "code",
   "execution_count": 39,
   "metadata": {},
   "outputs": [
    {
     "name": "stdout",
     "output_type": "stream",
     "text": [
      "ege kockaya\n"
     ]
    }
   ],
   "source": [
    "# index operator [] : gives access to a sequance's element (str, list, tuples)\n",
    "\n",
    "name6 = \"Ege Kockaya\"\n",
    "\n",
    "if(name6[0].isupper):\n",
    "    name6 = name6.lower()\n",
    "\n",
    "print(name6)"
   ]
  },
  {
   "cell_type": "code",
   "execution_count": 10,
   "metadata": {},
   "outputs": [
    {
     "name": "stdout",
     "output_type": "stream",
     "text": [
      "hello! Ege   Kockaya\n",
      "You are 27 age old\n",
      "have a nice day.\n"
     ]
    }
   ],
   "source": [
    "# function : a block of code which is executed only when it is called \n",
    "\n",
    "def hello(first, last, age):  # to add parameter to the function list it in the bracets, we can give this information when running the function\n",
    "    print(\"hello! \"+ first, \" \", last)\n",
    "    print(\"You are \" +str(age)+ \" age old\")\n",
    "    print(\"have a nice day.\")\n",
    "\n",
    "#hello(\"Ege\")\n",
    "#hello(\"Mr.Ege\")\n",
    "\n",
    "my_name = \"Ege Kockaya\"\n",
    "#hello(my_name)\n",
    "\n",
    "hello(\"Ege\",\"Kockaya\", 27)\n",
    "\n"
   ]
  },
  {
   "cell_type": "code",
   "execution_count": 12,
   "metadata": {},
   "outputs": [
    {
     "name": "stdout",
     "output_type": "stream",
     "text": [
      "48\n"
     ]
    }
   ],
   "source": [
    "# return statement: Functions send Python values/objects back to the caller, these values/objects are known as the function's return value.\n",
    "\n",
    "def multiply(number1, number2):\n",
    "    return number1 * number2\n",
    "\n",
    "print(multiply(6,8))"
   ]
  },
  {
   "cell_type": "code",
   "execution_count": 14,
   "metadata": {},
   "outputs": [
    {
     "name": "stdout",
     "output_type": "stream",
     "text": [
      "hello Ege Huseyin Kockaya\n"
     ]
    }
   ],
   "source": [
    "# keyword arguements: preceeded by an identifier when we pass them to a function, the order of the arguements doesn't matter. \n",
    "\n",
    "def hello(first, middle, last):\n",
    "    print(\"hello \" + first +\" \"+ middle +\" \"+ last)\n",
    "\n",
    "hello(last=\"Kockaya\", first=\"Ege\", middle=\"Huseyin\")"
   ]
  },
  {
   "cell_type": "code",
   "execution_count": 16,
   "metadata": {},
   "outputs": [
    {
     "name": "stdout",
     "output_type": "stream",
     "text": [
      "4\n"
     ]
    }
   ],
   "source": [
    "# nested function calls: function calls inside of other function calls,\n",
    "           # innermost function calls are resolved first, returned value is used as arguement for the next outer function \n",
    "\n",
    "print(round(abs(float(input(\"Enter a whole positive number:\")))))"
   ]
  },
  {
   "cell_type": "code",
   "execution_count": 21,
   "metadata": {},
   "outputs": [
    {
     "name": "stdout",
     "output_type": "stream",
     "text": [
      "Ege\n"
     ]
    }
   ],
   "source": [
    "# scope = the region that a variable is recognized, a variable which is ony recognized inside the region it's created is a local fuction.\n",
    "\n",
    "def display_name():\n",
    "    namel = \"Ege\"   ## this is a local variable because it's only known inside this function.\n",
    "    print (namel)\n",
    "\n",
    "# print(namel) #not possible gives error \n",
    "\n",
    "display_name()"
   ]
  },
  {
   "cell_type": "code",
   "execution_count": 27,
   "metadata": {},
   "outputs": [
    {
     "name": "stdout",
     "output_type": "stream",
     "text": [
      "3\n",
      "8\n",
      "21\n"
     ]
    }
   ],
   "source": [
    "# *args parameter : parameter that will pack all arguements into a tuple, \n",
    "                # useful so that a funciton can accept a varying amount of arguements\n",
    "\n",
    "def add(num1, num2):\n",
    "    sum = num1 + num2\n",
    "    return sum\n",
    "\n",
    "print(add(1,2))\n",
    "\n",
    "# instead\n",
    "\n",
    "def adda(*args):\n",
    "    sum = 0\n",
    "    for i in args:\n",
    "        sum = sum + i\n",
    "    return sum\n",
    "\n",
    "print(adda(2,4,2))\n",
    "print(adda(4,6,8,3))"
   ]
  },
  {
   "cell_type": "code",
   "execution_count": 56,
   "metadata": {},
   "outputs": [
    {
     "name": "stdout",
     "output_type": "stream",
     "text": [
      "Hello Mr. Ege Huseyin Kockaya "
     ]
    }
   ],
   "source": [
    "# Kwargs = parameter that will pack all arguements into a dictionary, fuction will accept varying amount of keywoard arguements. \n",
    "\n",
    "def hellok(**kwargs):\n",
    "    print(\"Hello\", end=\" \")\n",
    "    for key, value in kwargs.items():\n",
    "        print(value, end = \" \")\n",
    "    \n",
    "hellok (title = \"Mr.\", first=  \"Ege\", middle = \"Huseyin\", last= \"Kockaya\")\n",
    "\n"
   ]
  }
 ],
 "metadata": {
  "kernelspec": {
   "display_name": "Python 3",
   "language": "python",
   "name": "python3"
  },
  "language_info": {
   "codemirror_mode": {
    "name": "ipython",
    "version": 3
   },
   "file_extension": ".py",
   "mimetype": "text/x-python",
   "name": "python",
   "nbconvert_exporter": "python",
   "pygments_lexer": "ipython3",
   "version": "3.11.9"
  }
 },
 "nbformat": 4,
 "nbformat_minor": 2
}
